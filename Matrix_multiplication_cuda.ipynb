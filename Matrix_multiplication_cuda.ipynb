{
  "nbformat": 4,
  "nbformat_minor": 0,
  "metadata": {
    "colab": {
      "name": "Matrix_multiplication_cuda.ipynb",
      "provenance": [],
      "collapsed_sections": []
    },
    "kernelspec": {
      "name": "python3",
      "display_name": "Python 3"
    },
    "language_info": {
      "name": "python"
    },
    "accelerator": "GPU"
  },
  "cells": [
    {
      "cell_type": "code",
      "execution_count": 28,
      "metadata": {
        "id": "MZxOfvmtL_GS"
      },
      "outputs": [],
      "source": [
        "from numba import cuda\n",
        "import cupy as cp\n",
        "import numpy as np"
      ]
    },
    {
      "cell_type": "code",
      "source": [
        "#size of matrix\n",
        "matrix_size = 20\n",
        "M1_cpu = np.random.randint(0,100,size=[matrix_size,matrix_size])\n",
        "M2_cpu = np.random.randint(0,100,size=[matrix_size,matrix_size])\n",
        "M3_cpu = np.zeros((matrix_size,matrix_size))"
      ],
      "metadata": {
        "id": "2r6UighNT8Tq"
      },
      "execution_count": 125,
      "outputs": []
    },
    {
      "cell_type": "code",
      "source": [
        "M1_gpu = cp.asarray(M1_cpu)\n",
        "M2_gpu = cp.asarray(M2_cpu)\n",
        "M3_gpu = cp.asarray(M3_cpu)"
      ],
      "metadata": {
        "id": "eoJ6SmscUNaR"
      },
      "execution_count": 126,
      "outputs": []
    },
    {
      "cell_type": "code",
      "source": [
        "type(M1_gpu)"
      ],
      "metadata": {
        "colab": {
          "base_uri": "https://localhost:8080/"
        },
        "id": "hZT05AWlUyVt",
        "outputId": "ee916ec6-345c-4ae0-9f87-dc8d7d0d9125"
      },
      "execution_count": 127,
      "outputs": [
        {
          "output_type": "execute_result",
          "data": {
            "text/plain": [
              "cupy._core.core.ndarray"
            ]
          },
          "metadata": {},
          "execution_count": 127
        }
      ]
    },
    {
      "cell_type": "code",
      "source": [
        "threadsperblock = (16, 16)  \n",
        "blockspergrid_x = int(np.ceil(M3_gpu.shape[0] / threadsperblock[0]))\n",
        "blockspergrid_y = int(np.ceil(M3_gpu.shape[1] / threadsperblock[1]))\n",
        "blockspergrid = (blockspergrid_x, blockspergrid_y)\n",
        "print(blockspergrid)"
      ],
      "metadata": {
        "colab": {
          "base_uri": "https://localhost:8080/"
        },
        "id": "IZcHfoJD96th",
        "outputId": "bf1a98ff-613e-4410-e9b7-4879cc7a80a0"
      },
      "execution_count": 137,
      "outputs": [
        {
          "output_type": "stream",
          "name": "stdout",
          "text": [
            "(2, 2)\n"
          ]
        }
      ]
    },
    {
      "cell_type": "code",
      "source": [
        "@cuda.jit\n",
        "def matrix_multiplication_gpu(M1, M2, M3):\n",
        "  x, y = cuda.grid(2)  \n",
        "  if x < M3.shape[0] and y < M3.shape[1]:   \n",
        "      temp = 0 \n",
        "      for k in range(M1.shape[1]):\n",
        "          temp += M1[x, k] * M2[k, y]\n",
        "      M3[x, y] = temp\n",
        "\n",
        "\n",
        "def matrix_multiplication_cpu(M1, M2, M3):\n",
        "  x,y = M1.shape\n",
        "  for i in range(x):\n",
        "    for j in range(y):\n",
        "      temp = 0\n",
        "      for k in range(x):\n",
        "        temp += M1[i][k] * M2[k][j]\n",
        "      M3[i][j] = temp\n",
        "\n",
        "\n",
        "def matrix_multiplication(M1, M2):\n",
        "  return np.matmul(M1,M2)"
      ],
      "metadata": {
        "id": "3l40it3VU0Uk"
      },
      "execution_count": 129,
      "outputs": []
    },
    {
      "cell_type": "code",
      "source": [
        "%%time\n",
        "matrix_multiplication_cpu(M1_cpu, M2_cpu, M3_cpu)"
      ],
      "metadata": {
        "colab": {
          "base_uri": "https://localhost:8080/"
        },
        "id": "0-14qqhqzoDw",
        "outputId": "100bdbf1-7fe0-4cf1-e2d7-c9ca9deb6016"
      },
      "execution_count": 133,
      "outputs": [
        {
          "output_type": "stream",
          "name": "stdout",
          "text": [
            "CPU times: user 6.42 ms, sys: 0 ns, total: 6.42 ms\n",
            "Wall time: 6.32 ms\n"
          ]
        }
      ]
    },
    {
      "cell_type": "code",
      "source": [
        "%%time\n",
        "matrix_multiplication_gpu[blockspergrid, threadsperblock](M1_gpu, M2_gpu, M3_gpu)"
      ],
      "metadata": {
        "colab": {
          "base_uri": "https://localhost:8080/"
        },
        "id": "dlyCsEeG8dfL",
        "outputId": "a314bdd2-5469-4df1-fde1-19233af8ada1"
      },
      "execution_count": 134,
      "outputs": [
        {
          "output_type": "stream",
          "name": "stdout",
          "text": [
            "CPU times: user 2.21 ms, sys: 0 ns, total: 2.21 ms\n",
            "Wall time: 1.91 ms\n"
          ]
        }
      ]
    },
    {
      "cell_type": "code",
      "source": [
        "%%time\n",
        "matrix_multiplication(M1_cpu, M2_cpu)"
      ],
      "metadata": {
        "colab": {
          "base_uri": "https://localhost:8080/"
        },
        "id": "yIKbCcn2A1ox",
        "outputId": "4534d597-683c-450e-d971-1648db995307"
      },
      "execution_count": 136,
      "outputs": [
        {
          "output_type": "stream",
          "name": "stdout",
          "text": [
            "CPU times: user 34 µs, sys: 0 ns, total: 34 µs\n",
            "Wall time: 37.4 µs\n"
          ]
        },
        {
          "output_type": "execute_result",
          "data": {
            "text/plain": [
              "array([[29029, 40828, 35158, 49212, 33903, 52294, 45245, 40036, 42127,\n",
              "        31970, 33488, 49468, 38372, 54387, 36782, 38549, 32468, 31712,\n",
              "        42033, 26258],\n",
              "       [25700, 42918, 38600, 47951, 31801, 49547, 39716, 41213, 49788,\n",
              "        30724, 38190, 47944, 40366, 52411, 38976, 46748, 40618, 40610,\n",
              "        43441, 28602],\n",
              "       [25122, 41382, 40859, 43098, 39485, 51524, 34570, 40402, 49090,\n",
              "        30507, 44329, 37671, 29584, 50497, 40032, 44827, 38077, 33762,\n",
              "        37432, 32816],\n",
              "       [30951, 40028, 42170, 45320, 44379, 58481, 43524, 51874, 56556,\n",
              "        33002, 43738, 47052, 30072, 63129, 49585, 47864, 39173, 41507,\n",
              "        42615, 35062],\n",
              "       [33013, 45196, 53849, 45594, 43567, 55347, 47393, 45281, 59067,\n",
              "        31706, 44943, 51451, 37463, 54937, 51513, 51547, 37873, 49041,\n",
              "        37118, 43735],\n",
              "       [36336, 51132, 51460, 52020, 47164, 60926, 47753, 57341, 58940,\n",
              "        45432, 51974, 50935, 37091, 66749, 46954, 61159, 37870, 45561,\n",
              "        44559, 42623],\n",
              "       [28234, 48355, 52480, 55198, 36722, 64089, 45837, 52987, 49539,\n",
              "        42571, 45059, 53389, 43863, 67726, 47054, 54129, 43602, 43928,\n",
              "        50609, 35769],\n",
              "       [29579, 36898, 35481, 44183, 38217, 57319, 33438, 45922, 50683,\n",
              "        32519, 40816, 44500, 29755, 58798, 42096, 45499, 41253, 36416,\n",
              "        39588, 32960],\n",
              "       [27231, 45440, 39094, 46940, 44270, 41445, 39443, 42594, 49639,\n",
              "        27559, 37049, 43762, 36535, 45346, 42708, 38798, 31044, 32420,\n",
              "        39997, 30226],\n",
              "       [36404, 52698, 50420, 54619, 45391, 64181, 54241, 57612, 61750,\n",
              "        40294, 42088, 59138, 38703, 71932, 49971, 58856, 31562, 51395,\n",
              "        49700, 40339],\n",
              "       [31344, 45858, 40918, 52800, 44731, 56912, 44328, 50970, 60221,\n",
              "        32978, 40827, 53990, 34978, 60160, 54285, 58818, 42419, 45770,\n",
              "        41371, 34860],\n",
              "       [24818, 32998, 38925, 46971, 30986, 44667, 40604, 37774, 37503,\n",
              "        26384, 35723, 39546, 30096, 48253, 39815, 34592, 32137, 32932,\n",
              "        36566, 27410],\n",
              "       [36234, 62026, 53400, 64706, 50538, 72436, 46167, 68586, 63179,\n",
              "        50772, 56013, 60626, 45424, 76456, 54007, 65000, 51773, 47502,\n",
              "        59833, 41457],\n",
              "       [27292, 48696, 48064, 47617, 37267, 52801, 42663, 42104, 48228,\n",
              "        33297, 43200, 43618, 35471, 48988, 41737, 47540, 35368, 39231,\n",
              "        42584, 38492],\n",
              "       [38346, 57509, 53586, 66866, 47177, 66726, 51622, 67818, 62754,\n",
              "        43769, 53620, 62573, 49057, 77404, 70567, 63309, 47580, 51160,\n",
              "        61462, 40954],\n",
              "       [31361, 56517, 51583, 55274, 40912, 67038, 46955, 59660, 55338,\n",
              "        44260, 48683, 56801, 43370, 72929, 45597, 57855, 42913, 46164,\n",
              "        55314, 35041],\n",
              "       [32730, 46863, 38174, 47959, 41878, 57552, 34186, 51154, 52815,\n",
              "        37862, 47281, 41552, 29404, 56238, 42763, 51338, 36819, 33295,\n",
              "        43991, 35956],\n",
              "       [29799, 51301, 36419, 43953, 36776, 52760, 33676, 50641, 46745,\n",
              "        38796, 45703, 41664, 31774, 56455, 41409, 51027, 34517, 32378,\n",
              "        49201, 29507],\n",
              "       [41818, 61555, 60512, 70233, 51761, 71898, 63517, 61706, 66031,\n",
              "        47411, 56107, 67441, 52837, 74970, 62050, 62748, 51573, 55201,\n",
              "        58755, 49125],\n",
              "       [34135, 46240, 41388, 52503, 42225, 54368, 36713, 49353, 57837,\n",
              "        33696, 49548, 49153, 36639, 56439, 55375, 52764, 45775, 47215,\n",
              "        45073, 37233]])"
            ]
          },
          "metadata": {},
          "execution_count": 136
        }
      ]
    },
    {
      "cell_type": "code",
      "source": [
        ""
      ],
      "metadata": {
        "id": "8frCl2kwD-Sn"
      },
      "execution_count": 119,
      "outputs": []
    }
  ]
}